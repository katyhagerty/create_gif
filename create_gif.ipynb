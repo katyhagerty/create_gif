{
 "cells": [
  {
   "cell_type": "code",
   "execution_count": null,
   "id": "211de897",
   "metadata": {
    "scrolled": true
   },
   "outputs": [],
   "source": [
    "from bokeh.sampledata.population import data\n",
    "import numpy as np\n",
    "\n",
    "def filter_loc(country):\n",
    "    df = data[data.Location == country]\n",
    "\n",
    "    df['percent'] = np.nan\n",
    "    for i in df.index:\n",
    "        year = df.at[i, 'Year']\n",
    "        total_pop = df[df.Year == year].Value.sum()\n",
    "        df.at[i, 'percent'] = df.at[i, 'Value'] / total_pop * 100\n",
    "        \n",
    "    return df\n",
    "\n",
    "data = filter_loc('United States of America')"
   ]
  },
  {
   "cell_type": "code",
   "execution_count": null,
   "id": "da617279",
   "metadata": {},
   "outputs": [],
   "source": [
    "import seaborn as sns\n",
    "import matplotlib.pyplot as plt\n",
    "import matplotlib.patheffects as fx\n",
    "\n",
    "# Sets plot style\n",
    "sns.set()\n",
    "\n",
    "# Function to create plots\n",
    "def make_plot(year):\n",
    "    \n",
    "    # Filter data\n",
    "    df = data[data.Year == year]\n",
    "        \n",
    "    # Make plot\n",
    "    fig, (ax1, ax2) = plt.subplots(1, 2, sharey = True)\n",
    "    ax1.invert_xaxis()\n",
    "    fig.subplots_adjust(wspace = 0) \n",
    "    \n",
    "    ax1.barh(df[df.Sex == 'Male'].AgeGrp, df[df.Sex == 'Male'].percent, label = 'Male')\n",
    "    ax2.barh(df[df.Sex == 'Female'].AgeGrp, df[df.Sex == 'Female'].percent, label = 'Female', color = 'C1')\n",
    "    \n",
    "    # Set limits so all plots have the same scales\n",
    "    ax1.set_xlim([11, 0])\n",
    "    ax2.set_xlim([0, 11])\n",
    "    ax1.set_ylim([-1, 20])\n",
    "    \n",
    "    country = df.Location.iloc[0]\n",
    "    if country == 'United States of America': country == 'US'\n",
    "        \n",
    "    fig.suptitle(f'{country} Population Distribution')\n",
    "    fig.supxlabel('Percentage of Population (%)')\n",
    "    fig.legend(bbox_to_anchor = (0.9, 0.88), loc = 'upper right')\n",
    "    ax1.set_ylabel('Age Groups')\n",
    "    \n",
    "    # Add text to plot\n",
    "    text = ax1.text(3.8, 18, str(year), fontsize = 24, \n",
    "                    va = 'center', ha = 'left')\n",
    "    text.set_path_effects([\n",
    "        fx.Stroke(linewidth= 5, foreground = '1.0'),\n",
    "        fx.Normal()])\n",
    "    \n",
    "    return fig"
   ]
  },
  {
   "cell_type": "code",
   "execution_count": null,
   "id": "b6b3b96b",
   "metadata": {
    "scrolled": true
   },
   "outputs": [],
   "source": [
    "years = [i for i in set(data.Year) if i < 2022]\n",
    "years.sort()\n",
    "\n",
    "for year in years:\n",
    "    fig = make_plot(year)\n",
    "    fig.savefig(f'{year}.jpeg',bbox_inches = 'tight')"
   ]
  },
  {
   "cell_type": "code",
   "execution_count": null,
   "id": "f80abda8",
   "metadata": {
    "scrolled": true
   },
   "outputs": [],
   "source": [
    "import matplotlib.animation as animation\n",
    "\n",
    "# Create new figure for GIF\n",
    "fig, ax = plt.subplots()\n",
    "\n",
    "# Adjust figure so GIF does not have extra whitespace\n",
    "fig.subplots_adjust(left=0, bottom=0, right=1, top=1, wspace=None, hspace=None)\n",
    "ax.axis('off')\n",
    "ims = []\n",
    "\n",
    "for year in years:\n",
    "    im = ax.imshow(plt.imread(f'{year}.jpeg'), animated = True)\n",
    "    ims.append([im])\n",
    "\n",
    "ani = animation.ArtistAnimation(fig, ims, interval=600)\n",
    "ani.save('us_population.gif')"
   ]
  },
  {
   "cell_type": "code",
   "execution_count": null,
   "id": "3b191824",
   "metadata": {
    "scrolled": true
   },
   "outputs": [],
   "source": [
    "#Without saving frames\n",
    "\n",
    "years = [i for i in set(data.Year) if i < 2022]\n",
    "years.sort()\n",
    "\n",
    "# Initialize plot\n",
    "# Will be overwritten by run function\n",
    "fig, (ax1, ax2) = plt.subplots(1, 2, sharey = True)\n",
    "   \n",
    "df = data[data.Year == 1955]\n",
    "\n",
    "y_pos = [i for i in range(len(df[df.Sex == 'Male']))]\n",
    "male = ax1.barh(y_pos, df[df.Sex == 'Male'].percent, label = 'Male',\n",
    "               tick_label = df[df.Sex == 'Male'].AgeGrp)\n",
    "female = ax2.barh(y_pos, df[df.Sex == 'Female'].percent, label = 'Female', \n",
    "                  color = 'C1', tick_label = df[df.Sex == 'Male'].AgeGrp)\n",
    "\n",
    "ax1.invert_xaxis()\n",
    "\n",
    "# Set limits so all plots have the same scales\n",
    "ax1.set_xlim([6, 0])\n",
    "ax2.set_xlim([0, 6])\n",
    "ax1.set_ylim([-1, 21])\n",
    "\n",
    "fig.suptitle('US Population Distribution')\n",
    "fig.supxlabel('Percentage of Population (%)')\n",
    "fig.legend(bbox_to_anchor = (0.9, 0.88), loc = 'upper right')\n",
    "ax1.set_ylabel('Age Groups')\n",
    "\n",
    "fig.subplots_adjust(wspace = 0)\n",
    "\n",
    "# Add text to plot\n",
    "text = ax1.text(3.8, 18, '', fontsize = 24, \n",
    "                va = 'center', ha = 'left')\n",
    "text.set_path_effects([\n",
    "    fx.Stroke(linewidth= 5, foreground = '1.0'),\n",
    "    fx.Normal()])\n",
    "    \n",
    "def run(year):\n",
    "\n",
    "    # Filter data\n",
    "    df = data[data.Year == year]\n",
    "\n",
    "    # Find percentage of population for each age group\n",
    "    total_pop = df.Value.sum()\n",
    "    df['percent'] = df.Value / total_pop * 100\n",
    "\n",
    "    if len(male.patches) != len(df[df.Sex == 'Male']):\n",
    "        male.remove()\n",
    "        y_pos = [i for i in range(len(df[df.Sex == 'Male']))]\n",
    "        male.patches = ax1.barh(y_pos, df[df.Sex == 'Male'].percent, label = 'Male', \n",
    "                         color = 'C0', tick_label = df[df.Sex == 'Male'].AgeGrp)\n",
    "\n",
    "        female.remove()\n",
    "        female.patches = ax2.barh(y_pos, df[df.Sex == 'Female'].percent, label = 'Female',\n",
    "                          color = 'C1', tick_label = df[df.Sex == 'Female'].AgeGrp)\n",
    "\n",
    "    else:\n",
    "        for count, rect in zip(df[df.Sex == 'Male'].percent, male.patches):\n",
    "            rect.set_width(count)\n",
    "\n",
    "        for count, rect in zip(df[df.Sex == 'Female'].percent, female.patches):\n",
    "            rect.set_width(count)\n",
    "\n",
    "    text.set_text(year)\n",
    "\n",
    "    return male#, female\n",
    "    \n",
    "ani = animation.FuncAnimation(fig, run, years, blit = True, repeat = True, \n",
    "                              interval = 600)\n",
    "ani.save('us_population_from_funct.gif')"
   ]
  },
  {
   "cell_type": "code",
   "execution_count": null,
   "id": "9be6c898",
   "metadata": {
    "scrolled": false
   },
   "outputs": [],
   "source": [
    "df = data[data.Year <= 2022]\n",
    "\n",
    "# Static Plot\n",
    "fig, ax = plt.subplots(figsize = (8, 6))\n",
    "sns.lineplot(x = 'Year', y = 'percent', hue = 'AgeGrp', style = 'Sex', data = df, ax = ax)\n",
    "\n",
    "fig.suptitle(f'United States Population Distribution')\n",
    "fig.supxlabel('Percentage of Population (%)')\n",
    "fig.supylabel('Age Groups')\n",
    "\n",
    "plt.legend(bbox_to_anchor=(1.05, 1), loc=2, borderaxespad= 0)"
   ]
  },
  {
   "cell_type": "code",
   "execution_count": null,
   "id": "8e90ffeb",
   "metadata": {
    "scrolled": true
   },
   "outputs": [],
   "source": [
    "# Find data coordinates of axes\n",
    "# Used to determine where to place legend on figure\n",
    "fig.get_axes()[1].get_position()"
   ]
  },
  {
   "cell_type": "code",
   "execution_count": null,
   "id": "298d92ad",
   "metadata": {
    "scrolled": true
   },
   "outputs": [],
   "source": [
    "# Afghanistan\n",
    "from bokeh.sampledata.population import data\n",
    "\n",
    "data = filter_loc('Afghanistan')\n",
    "\n",
    "years = [i for i in set(data.Year) if i < 2022]\n",
    "years.sort()\n",
    "\n",
    "for year in years:\n",
    "    fig = make_plot(year)\n",
    "    fig.savefig(f'Aghanistan_{year}.jpeg',bbox_inches = 'tight')"
   ]
  },
  {
   "cell_type": "code",
   "execution_count": null,
   "id": "87e252ea",
   "metadata": {
    "scrolled": true
   },
   "outputs": [],
   "source": [
    "# India\n",
    "from bokeh.sampledata.population import data\n",
    "\n",
    "data = filter_loc('India')\n",
    "\n",
    "years = [i for i in set(data.Year) if i < 2022]\n",
    "years.sort()\n",
    "\n",
    "for year in years:\n",
    "    fig = make_plot(year)\n",
    "    fig.savefig(f'India_{year}.jpeg',bbox_inches = 'tight')"
   ]
  },
  {
   "cell_type": "code",
   "execution_count": null,
   "id": "4d64dcb6",
   "metadata": {},
   "outputs": [],
   "source": [
    "import matplotlib.animation as animation\n",
    "\n",
    "# Create new figure for GIF\n",
    "fig, (ax, ax2, ax3) = plt.subplots(1, 3, figsize = (10, 3))\n",
    "\n",
    "# Adjust figure so GIF does not have extra whitespace\n",
    "fig.subplots_adjust(left=0, bottom=0, right=1, top=1, wspace=0.1, hspace=0)\n",
    "ax.axis('off')\n",
    "ax2.axis('off')\n",
    "ax3.axis('off')\n",
    "ims = []\n",
    "\n",
    "for year in years:\n",
    "    im = ax.imshow(plt.imread(f'Aghanistan_{year}.jpeg'), animated = True)\n",
    "    im2 = ax2.imshow(plt.imread(f'India_{year}.jpeg'), animated = True)\n",
    "    im3 = ax3.imshow(plt.imread(f'{year}.jpeg'), animated = True)\n",
    "    ims.append([im, im2, im3])\n",
    "\n",
    "ani = animation.ArtistAnimation(fig, ims, interval=600)\n",
    "ani.save('comparison.gif')"
   ]
  }
 ],
 "metadata": {
  "kernelspec": {
   "display_name": "Python 3 (ipykernel)",
   "language": "python",
   "name": "python3"
  },
  "language_info": {
   "codemirror_mode": {
    "name": "ipython",
    "version": 3
   },
   "file_extension": ".py",
   "mimetype": "text/x-python",
   "name": "python",
   "nbconvert_exporter": "python",
   "pygments_lexer": "ipython3",
   "version": "3.8.5"
  }
 },
 "nbformat": 4,
 "nbformat_minor": 5
}
